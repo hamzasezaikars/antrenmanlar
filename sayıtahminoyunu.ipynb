{
  "nbformat": 4,
  "nbformat_minor": 0,
  "metadata": {
    "colab": {
      "provenance": []
    },
    "kernelspec": {
      "name": "python3",
      "display_name": "Python 3"
    },
    "language_info": {
      "name": "python"
    }
  },
  "cells": [
    {
      "cell_type": "code",
      "execution_count": 12,
      "metadata": {
        "colab": {
          "base_uri": "https://localhost:8080/"
        },
        "id": "to8zYJNezWcM",
        "outputId": "b5778816-9136-4043-eab5-8b1f08528c07"
      },
      "outputs": [
        {
          "output_type": "stream",
          "name": "stdout",
          "text": [
            "🎲 Sayı Tahmin Oyununa Hoş Geldin!\n",
            "1 ile 100 arasında bir sayı tuttum. Tahmin etmeye çalış bakalım! 👀\n",
            "Tahminin nedir? 1\n",
            "⬆️ Daha büyük bir sayı dene.\n",
            "Tahminin nedir? 5\n",
            "⬆️ Daha büyük bir sayı dene.\n",
            "Tahminin nedir? 9\n",
            "⬆️ Daha büyük bir sayı dene.\n",
            "Tahminin nedir? 50\n",
            "⬇️ Daha küçük bir sayı dene.\n",
            "Tahminin nedir? 45\n",
            "⬇️ Daha küçük bir sayı dene.\n",
            "Tahminin nedir? 35\n",
            "⬇️ Daha küçük bir sayı dene.\n",
            "Tahminin nedir? 25\n",
            "⬆️ Daha büyük bir sayı dene.\n",
            "Tahminin nedir? 26\n",
            "⬆️ Daha büyük bir sayı dene.\n",
            "Tahminin nedir? 29\n",
            "🎉 Tebrikler! 9 denemede doğru tahmin ettin! 🎯\n"
          ]
        }
      ],
      "source": [
        "import random\n",
        "\n",
        "def sayi_tahmin_oyunu():\n",
        "    print(\"🎲 Sayı Tahmin Oyununa Hoş Geldin!\")\n",
        "    print(\"1 ile 100 arasında bir sayı tuttum. Tahmin etmeye çalış bakalım! 👀\")\n",
        "\n",
        "    gizli_sayi = random.randint(1, 100)\n",
        "    tahmin_sayisi = 0\n",
        "\n",
        "    while True:\n",
        "        try:\n",
        "            tahmin = int(input(\"Tahminin nedir? \"))\n",
        "            tahmin_sayisi += 1\n",
        "\n",
        "            if tahmin < gizli_sayi:\n",
        "                print(\"⬆️ Daha büyük bir sayı dene.\")\n",
        "            elif tahmin > gizli_sayi:\n",
        "                print(\"⬇️ Daha küçük bir sayı dene.\")\n",
        "            else:\n",
        "                print(f\"🎉 Tebrikler! {tahmin_sayisi} denemede doğru tahmin ettin! 🎯\")\n",
        "                break\n",
        "\n",
        "        except ValueError:\n",
        "            print(\"⚠️ Lütfen geçerli bir tam sayı girin.\")\n",
        "\n",
        "# Oyunu başlat\n",
        "sayi_tahmin_oyunu()\n"
      ]
    },
    {
      "cell_type": "code",
      "source": [],
      "metadata": {
        "id": "jU_ZR8jFFJnk"
      },
      "execution_count": null,
      "outputs": []
    }
  ]
}