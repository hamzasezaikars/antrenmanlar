{
  "nbformat": 4,
  "nbformat_minor": 0,
  "metadata": {
    "colab": {
      "provenance": []
    },
    "kernelspec": {
      "name": "python3",
      "display_name": "Python 3"
    },
    "language_info": {
      "name": "python"
    }
  },
  "cells": [
    {
      "cell_type": "code",
      "execution_count": 6,
      "metadata": {
        "colab": {
          "base_uri": "https://localhost:8080/"
        },
        "id": "to8zYJNezWcM",
        "outputId": "772b3fa0-d15c-4091-ca72-e9c0253bd851"
      },
      "outputs": [
        {
          "output_type": "stream",
          "name": "stdout",
          "text": [
            "Hoş geldiniz, basit bir hesap makinesi uygulaması yapıyoruz\n",
            "Birinci sayıyı gir : 1\n",
            "Yapmak istediğin işlemi seç (+, -, *, /): /\n",
            "İkinci sayıyı gir : 1\n",
            "Sonuç: 1.0\n"
          ]
        }
      ],
      "source": [
        "print(\"Hoş geldiniz, basit bir hesap makinesi uygulaması yapıyoruz\")\n",
        "\n",
        "sayi1 = float(input(\"Birinci sayıyı gir : \"))\n",
        "islem = input(\"Yapmak istediğin işlemi seç (+, -, *, /): \")\n",
        "sayi2 = float(input(\"İkinci sayıyı gir : \"))\n",
        "\n",
        "if islem == \"+\":\n",
        "    sonuc = sayi1 + sayi2\n",
        "elif islem == \"-\":\n",
        "    sonuc = sayi1 - sayi2\n",
        "elif islem == \"*\":\n",
        "    sonuc = sayi1 * sayi2\n",
        "elif islem == \"/\":\n",
        "    if sayi2 != 0:\n",
        "        sonuc = sayi1 / sayi2\n",
        "    else:\n",
        "        sonuc = \"Sıfıra bölme hatası!\"\n",
        "else:\n",
        "    sonuc = \"Geçersiz işlem!\"\n",
        "\n",
        "print(\"Sonuç:\", sonuc)\n"
      ]
    },
    {
      "cell_type": "code",
      "source": [
        "\n",
        "\n"
      ],
      "metadata": {
        "id": "7GD4m9S40Pgo"
      },
      "execution_count": null,
      "outputs": []
    }
  ]
}